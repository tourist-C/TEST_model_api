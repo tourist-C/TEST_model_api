{
 "cells": [
  {
   "cell_type": "code",
   "execution_count": 1,
   "metadata": {},
   "outputs": [
    {
     "name": "stdout",
     "output_type": "stream",
     "text": [
      "1. handkerchief: 0.3404\n",
      "2. thimble: 0.1359\n",
      "3. jigsaw_puzzle: 0.1096\n",
      "4. dalmatian: 0.0320\n",
      "5. paintbrush: 0.0310\n"
     ]
    }
   ],
   "source": [
    "# import the necessary packages\n",
    "import requests\n",
    "\n",
    "# initialize the Keras REST API endpoint URL along with the input\n",
    "# image path\n",
    "KERAS_REST_API_URL = \"http://localhost:5000/predict\"\n",
    "IMAGE_PATH = \"dog.jpg\"\n",
    "\n",
    "# load the input image and construct the payload for the request\n",
    "image = open(IMAGE_PATH, \"rb\").read()\n",
    "payload = {\"image\": image}\n",
    "\n",
    "# submit the request\n",
    "r = requests.post(KERAS_REST_API_URL, files=payload).json()\n",
    "\n",
    "# ensure the request was successful\n",
    "if r[\"success\"]:\n",
    "    # loop over the predictions and display them\n",
    "    for (i, result) in enumerate(r[\"predictions\"]):\n",
    "        print(\"{}. {}: {:.4f}\".format(i + 1, result[\"label\"],\n",
    "            result[\"probability\"]))\n",
    "\n",
    "# otherwise, the request failed\n",
    "else:\n",
    "    print(\"Request failed\")"
   ]
  }
 ],
 "metadata": {
  "kernelspec": {
   "display_name": "Python 3",
   "language": "python",
   "name": "python3"
  },
  "language_info": {
   "codemirror_mode": {
    "name": "ipython",
    "version": 3
   },
   "file_extension": ".py",
   "mimetype": "text/x-python",
   "name": "python",
   "nbconvert_exporter": "python",
   "pygments_lexer": "ipython3",
   "version": "3.6.8"
  }
 },
 "nbformat": 4,
 "nbformat_minor": 2
}
